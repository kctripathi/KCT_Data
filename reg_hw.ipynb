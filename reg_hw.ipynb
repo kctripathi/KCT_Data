{
  "nbformat": 4,
  "nbformat_minor": 0,
  "metadata": {
    "colab": {
      "name": "reg_hw.ipynb",
      "provenance": [],
      "collapsed_sections": [],
      "authorship_tag": "ABX9TyNYISxWcg3wUaULQULhatsH",
      "include_colab_link": true
    },
    "kernelspec": {
      "name": "python3",
      "display_name": "Python 3"
    }
  },
  "cells": [
    {
      "cell_type": "markdown",
      "metadata": {
        "id": "view-in-github",
        "colab_type": "text"
      },
      "source": [
        "<a href=\"https://colab.research.google.com/github/kctripathi/KCT_Data/blob/main/reg_hw.ipynb\" target=\"_parent\"><img src=\"https://colab.research.google.com/assets/colab-badge.svg\" alt=\"Open In Colab\"/></a>"
      ]
    },
    {
      "cell_type": "code",
      "metadata": {
        "id": "Wvvt-BvxKqfS"
      },
      "source": [
        "import numpy as np\r\n",
        "import pandas as pd\r\n",
        "from matplotlib import pyplot as plt\r\n",
        "from sklearn import linear_model\r\n",
        "from sklearn.metrics import mean_squared_error, r2_score\r\n",
        "\r\n",
        "# Get and arrange the data in proper format\r\n",
        "\r\n",
        "#read file in data frame\r\n",
        "\r\n",
        "#df = pd.read_csv('https://github.com/kctripathi/KCT_Data/raw/main/hw1.csv')\r\n",
        "df = pd.read_csv('hw.csv')\r\n",
        "# convert file to array\r\n",
        "\r\n",
        "X = df[['Height']].values.reshape(-1,1) # reshape to keep the number of columns intact\r\n",
        "Y = df['Weight']\r\n",
        "x=X\r\n",
        "y=Y\r\n",
        "print('size x=',x.shape)\r\n",
        "print('size y=',y.shape)\r\n",
        "\r\n",
        "#Fit linear model \r\n",
        "\r\n",
        "reg = linear_model.LinearRegression()\r\n",
        "reg.fit (x, y)\r\n",
        "print('coef=',reg.coef_)\r\n",
        "print('intercept=',reg.intercept_)\r\n",
        "\r\n",
        "# Do the prediction \r\n",
        "\r\n",
        "y1=reg.predict(x)\r\n",
        "#pred_test_x=[[169]]\r\n",
        "#pred_test_y=reg.predict(pred_test_x)\r\n",
        "pred_test_x1=[[169],[174],[179],[165],[153]]\r\n",
        "pred_test_y1=reg.predict(pred_test_x1)\r\n",
        "actual_test_y1=[68,73,74,66,59]\r\n",
        "\r\n",
        "# Do the analysis \r\n",
        "\r\n",
        "print('--------------Training Performance-----------------')\r\n",
        "print('r2_score=',r2_score(y,y1)) # square of cc\r\n",
        "cc_y_y1=np.corrcoef(y,y1) \r\n",
        "print('cc_ob_predicted=\\n ',cc_y_y1)\r\n",
        "rmse = np.sqrt(mean_squared_error(y,y1))\r\n",
        "print('rmse by numpy=',rmse)\r\n",
        "sd_y=np.std(y)\r\n",
        "print('SD of observed data= ',sd_y)\r\n",
        "\r\n",
        "print('--------------Test Performance-----------------')\r\n",
        "\r\n",
        "print('r2_score=',r2_score(actual_test_y1,pred_test_y1)) # square of cc\r\n",
        "cc_y_y1=np.corrcoef(actual_test_y1,pred_test_y1) \r\n",
        "print('cc_ob_predicted=\\n ',cc_y_y1)\r\n",
        "rmse = np.sqrt(mean_squared_error(actual_test_y1,pred_test_y1))\r\n",
        "print('rmse by numpy=',rmse)\r\n",
        "sd_y=np.std(actual_test_y1)\r\n",
        "print('SD of observed data= ',sd_y)\r\n",
        "# Plot the results\r\n",
        "\r\n",
        "plt.scatter(x,y)\r\n",
        "plt.plot(x,y1,color='red')\r\n",
        "plt.scatter(pred_test_x1,pred_test_y1,marker='X',color='green')\r\n",
        "#print('test output=',pred_test_y)\r\n",
        "print('test output1=',pred_test_y1)"
      ],
      "execution_count": null,
      "outputs": []
    },
    {
      "cell_type": "code",
      "metadata": {
        "colab": {
          "base_uri": "https://localhost:8080/"
        },
        "id": "5sbFVB1hjPz1",
        "outputId": "b241262f-b6de-44cf-aecf-0b5974a94017"
      },
      "source": [
        "cd gdrive"
      ],
      "execution_count": 4,
      "outputs": [
        {
          "output_type": "stream",
          "text": [
            "[Errno 2] No such file or directory: 'gdrive'\n",
            "/content\n"
          ],
          "name": "stdout"
        }
      ]
    }
  ]
}